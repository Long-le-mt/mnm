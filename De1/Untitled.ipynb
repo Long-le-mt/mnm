{
 "cells": [
  {
   "cell_type": "markdown",
   "id": "aa687eaa",
   "metadata": {},
   "source": [
    "#### List of integers with exactly two occurrences of nineteen and at least three occurrences of five\n",
    "Input:\n",
    "[19, 19, 15, 5, 3, 5, 5, 2]\n",
    "Output:\n",
    "True"
   ]
  },
  {
   "cell_type": "code",
   "execution_count": 2,
   "id": "ace7dc7a",
   "metadata": {},
   "outputs": [
    {
     "name": "stdout",
     "output_type": "stream",
     "text": [
      "True\n"
     ]
    }
   ],
   "source": [
    "arr =  [19, 19, 15, 5, 3, 5, 5, 2]\n",
    "if arr.count(19) == 2 and arr.count(5) >= 3:\n",
    "    print(True)\n",
    "else:\n",
    "    print(False)"
   ]
  },
  {
   "cell_type": "markdown",
   "id": "83b8519c",
   "metadata": {},
   "source": [
    "#### Write a Python program that accept a list of integers and check the length and the fifth element. Return true if the length of the list is 8 and fifth element occurs thrice in the said list\n",
    "Input:\n",
    "[19, 19, 15, 5, 5, 5, 1, 2]\n",
    "\n",
    "Output:\n",
    "True"
   ]
  },
  {
   "cell_type": "code",
   "execution_count": 4,
   "id": "a2042dc4",
   "metadata": {},
   "outputs": [
    {
     "name": "stdout",
     "output_type": "stream",
     "text": [
      "True\n"
     ]
    }
   ],
   "source": [
    "arr = [19, 19, 15, 5, 5, 5, 1, 2]\n",
    "if len(arr) == 8 and arr.count(arr[4]) == 3:\n",
    "    print(True)\n",
    "else:\n",
    "    print(False)"
   ]
  },
  {
   "cell_type": "markdown",
   "id": "4e51f4a7",
   "metadata": {},
   "source": [
    "#### Sum list"
   ]
  },
  {
   "cell_type": "code",
   "execution_count": 5,
   "id": "ac28905e",
   "metadata": {},
   "outputs": [
    {
     "name": "stdout",
     "output_type": "stream",
     "text": [
      "19\n"
     ]
    }
   ],
   "source": [
    "arr = [1, 3 ,4 ,5 ,6]\n",
    "print(sum(arr))"
   ]
  },
  {
   "cell_type": "markdown",
   "id": "1297fc5d",
   "metadata": {},
   "source": [
    "#### mul"
   ]
  },
  {
   "cell_type": "code",
   "execution_count": 9,
   "id": "5129793a",
   "metadata": {},
   "outputs": [
    {
     "name": "stdout",
     "output_type": "stream",
     "text": [
      "120\n"
     ]
    }
   ],
   "source": [
    "def multiplyList(myList):\n",
    " \n",
    "    # Multiply elements one by one\n",
    "    result = 1\n",
    "    for x in myList:\n",
    "        result = result * x\n",
    "    return result\n",
    "\n",
    "print(multiplyList([1, 2, 3, 4, 5]))"
   ]
  },
  {
   "cell_type": "code",
   "execution_count": 11,
   "id": "ced9cc2b",
   "metadata": {},
   "outputs": [
    {
     "name": "stdout",
     "output_type": "stream",
     "text": [
      "2\n",
      "-8\n"
     ]
    }
   ],
   "source": [
    "arr = [1, 2, -8, 0]\n",
    "print(max(arr))\n",
    "print(min(arr))"
   ]
  },
  {
   "cell_type": "markdown",
   "id": "65949fdb",
   "metadata": {},
   "source": [
    "#### Sort list tuple "
   ]
  },
  {
   "cell_type": "code",
   "execution_count": 12,
   "id": "ced2573e",
   "metadata": {},
   "outputs": [
    {
     "name": "stdout",
     "output_type": "stream",
     "text": [
      "[(2, 1), (1, 2), (2, 3), (4, 4), (2, 5)]\n"
     ]
    }
   ],
   "source": [
    "arr = [(2, 5), (1, 2), (4, 4), (2, 3), (2, 1)]\n",
    "print(sorted(arr, key = lambda x: x[1]))"
   ]
  },
  {
   "cell_type": "markdown",
   "id": "491bf16d",
   "metadata": {},
   "source": [
    "#### Remove duplicate out list"
   ]
  },
  {
   "cell_type": "code",
   "execution_count": 13,
   "id": "5f83ef94",
   "metadata": {},
   "outputs": [
    {
     "name": "stdout",
     "output_type": "stream",
     "text": [
      "[10, 20, 30, 50, 60, 40, 80]\n"
     ]
    }
   ],
   "source": [
    "mylist = [10,20,30,20,10,50,60,40,80,50,40]\n",
    "mylist = list(dict.fromkeys(mylist))\n",
    "print(mylist)"
   ]
  },
  {
   "cell_type": "markdown",
   "id": "140b4017",
   "metadata": {},
   "source": [
    "#### Check list empty"
   ]
  },
  {
   "cell_type": "code",
   "execution_count": 16,
   "id": "3245c5ab",
   "metadata": {},
   "outputs": [
    {
     "name": "stdout",
     "output_type": "stream",
     "text": [
      "List is empty\n",
      "List is empty\n"
     ]
    }
   ],
   "source": [
    "l = []\n",
    "if not l: \n",
    "    print(\"List is empty\")\n",
    "else:\n",
    "    print(\"List is not empty\")\n",
    "    \n",
    "if len(l) == 0:\n",
    "    print(\"List is empty\")\n",
    "else:\n",
    "    print(\"List is not empty\")"
   ]
  },
  {
   "cell_type": "markdown",
   "id": "bfa5affb",
   "metadata": {},
   "source": [
    "#### Clone of copy list\n"
   ]
  },
  {
   "cell_type": "code",
   "execution_count": 20,
   "id": "a209d952",
   "metadata": {},
   "outputs": [
    {
     "name": "stdout",
     "output_type": "stream",
     "text": [
      "[10, 22, 44, 23, 4]\n",
      "Equal\n"
     ]
    }
   ],
   "source": [
    "arr = [10, 22, 44, 23, 4]\n",
    "arr2 = list(arr)\n",
    "print(arr2)\n",
    "if arr == arr2:\n",
    "    print(\"Equal\")"
   ]
  },
  {
   "cell_type": "markdown",
   "id": "c2102755",
   "metadata": {},
   "source": [
    "####  find the list of words that are longer than n from a given list of words."
   ]
  },
  {
   "cell_type": "code",
   "execution_count": 21,
   "id": "8d251a35",
   "metadata": {},
   "outputs": [
    {
     "name": "stdout",
     "output_type": "stream",
     "text": [
      "['quick', 'brown', 'jumps', 'over', 'lazy']\n"
     ]
    }
   ],
   "source": [
    "def long_words(n, str):\n",
    "    word_len = []\n",
    "    str_arr = str.split(\" \")\n",
    "    \n",
    "    for x in str_arr:\n",
    "        if len(x) > n:\n",
    "            word_len.append(x)\n",
    "    return word_len\n",
    "\n",
    "print(long_words(3, \"The quick brown fox jumps over the lazy dog\"))"
   ]
  },
  {
   "cell_type": "markdown",
   "id": "af074279",
   "metadata": {},
   "source": [
    "####  find commons in two lists"
   ]
  },
  {
   "cell_type": "code",
   "execution_count": 32,
   "id": "84c6d949",
   "metadata": {},
   "outputs": [
    {
     "name": "stdout",
     "output_type": "stream",
     "text": [
      "two list have element common\n",
      "True\n",
      "None\n"
     ]
    }
   ],
   "source": [
    "list1 = [1, 2, 1, 2, 3, 31]\n",
    "list2 = [1, 3, 3]\n",
    "\n",
    "list1_as_set = set(list1)\n",
    "intersection = list1_as_set.intersection(list2)\n",
    "common_list = list(intersection)\n",
    "\n",
    "if len(common_list) > 0:\n",
    "    print(\"two list have element common\")\n",
    "else:\n",
    "    print(\"two list have not element common\")\n",
    "\n",
    "def common_data(list1, list2):\n",
    "     result = False\n",
    "     for x in list1:\n",
    "         for y in list2:\n",
    "             if x == y:\n",
    "                 result = True\n",
    "                 return result\n",
    "print(common_data([1,2,3,4,5], [5,6,7,8,9]))\n",
    "print(common_data([1,2,3,4,5], [6,7,8,9]))"
   ]
  },
  {
   "cell_type": "markdown",
   "id": "270c0f2d",
   "metadata": {},
   "source": [
    "#### Print a list after removing specified elements"
   ]
  },
  {
   "cell_type": "code",
   "execution_count": 33,
   "id": "8d8ec14b",
   "metadata": {},
   "outputs": [
    {
     "name": "stdout",
     "output_type": "stream",
     "text": [
      "['Green', 'White', 'Black']\n"
     ]
    }
   ],
   "source": [
    "color = ['Red', 'Green', 'White', 'Black', 'Pink', 'Yellow']\n",
    "color = [x for (i,x) in enumerate(color) if i not in (0,4,5)]\n",
    "print(color)"
   ]
  },
  {
   "cell_type": "markdown",
   "id": "92958441",
   "metadata": {},
   "source": [
    "#### print number after remove even numbers"
   ]
  },
  {
   "cell_type": "code",
   "execution_count": 36,
   "id": "ab475603",
   "metadata": {},
   "outputs": [
    {
     "name": "stdout",
     "output_type": "stream",
     "text": [
      "[7, 25, 27]\n"
     ]
    }
   ],
   "source": [
    "arr = [7,8, 120, 25, 44, 20, 27]\n",
    "arr = [x for x in arr if x%2!=0]\n",
    "print(arr)"
   ]
  },
  {
   "cell_type": "markdown",
   "id": "321c1713",
   "metadata": {},
   "source": [
    "#### Create a list by concatenating a given list which range goes from 1 to n"
   ]
  },
  {
   "cell_type": "code",
   "execution_count": 43,
   "id": "1dbd4cbb",
   "metadata": {},
   "outputs": [
    {
     "name": "stdout",
     "output_type": "stream",
     "text": [
      "['p1', 'q1', 'p2', 'q2', 'p3', 'q3', 'p4', 'q4']\n"
     ]
    }
   ],
   "source": [
    "my_list = ['p', 'q']\n",
    "n = 4 \n",
    "new_list = ['{}{}'.format(x, y) for y in range(1, n+1) for x in my_list]\n",
    "print(new_list)"
   ]
  },
  {
   "cell_type": "code",
   "execution_count": 2,
   "id": "b50497cf",
   "metadata": {},
   "outputs": [
    {
     "name": "stdout",
     "output_type": "stream",
     "text": [
      "113340\n"
     ]
    }
   ],
   "source": [
    "arr = [11, 33, 40]\n",
    "x = int(\"\".join(map(str,arr)))\n",
    "string = \"\"\n",
    "for i in arr:\n",
    "    string += str(i)\n",
    "\n",
    "print(string)"
   ]
  },
  {
   "cell_type": "markdown",
   "id": "9643f142",
   "metadata": {},
   "source": [
    "### Tuple"
   ]
  },
  {
   "cell_type": "code",
   "execution_count": 4,
   "id": "6465809a",
   "metadata": {},
   "outputs": [
    {
     "name": "stdout",
     "output_type": "stream",
     "text": [
      "()\n"
     ]
    },
    {
     "data": {
      "text/plain": [
       "()"
      ]
     },
     "execution_count": 4,
     "metadata": {},
     "output_type": "execute_result"
    }
   ],
   "source": [
    "# Create tuple \n",
    "x = ()\n",
    "print(x)\n",
    "x"
   ]
  },
  {
   "cell_type": "code",
   "execution_count": 6,
   "id": "15dd78c2",
   "metadata": {},
   "outputs": [
    {
     "name": "stdout",
     "output_type": "stream",
     "text": [
      "(4, 8, 3)\n",
      "4 8 3\n"
     ]
    }
   ],
   "source": [
    "# Unpack a tuple\n",
    "tuplex = 4, 8, 3\n",
    "\n",
    "print(tuplex)\n",
    "\n",
    "n1, n2, n3 = tuplex\n",
    "\n",
    "print(n1, n2, n3)"
   ]
  },
  {
   "cell_type": "code",
   "execution_count": 12,
   "id": "205c0242",
   "metadata": {},
   "outputs": [
    {
     "name": "stdout",
     "output_type": "stream",
     "text": [
      "(4, 6, 2, 8, 3, 1)\n",
      "(4, 6, 2, 8, 3, 1, 9)\n",
      "(4, 6, 2, 8, 3, 1, 9, 2909)\n"
     ]
    }
   ],
   "source": [
    "tuplex = (4, 6, 2, 8, 3, 1)\n",
    "print(tuplex)\n",
    "\n",
    "tuplex = tuplex + (9,)\n",
    "print(tuplex)\n",
    "arr = list(tuplex)\n",
    "arr.append(2909)\n",
    "tuplex = tuple(arr)\n",
    "print(tuplex)"
   ]
  },
  {
   "cell_type": "code",
   "execution_count": 11,
   "id": "fad0636f",
   "metadata": {},
   "outputs": [
    {
     "name": "stdout",
     "output_type": "stream",
     "text": [
      "(4, 6, 2, 8, 3)\n"
     ]
    }
   ],
   "source": [
    "tuplex = (4, 6, 2, 8, 3, 1)"
   ]
  },
  {
   "cell_type": "code",
   "execution_count": 13,
   "id": "1ff797a3",
   "metadata": {},
   "outputs": [
    {
     "name": "stdout",
     "output_type": "stream",
     "text": [
      "exercises\n"
     ]
    }
   ],
   "source": [
    "tup = ('e', 'x', 'e', 'r', 'c', 'i', 's', 'e', 's')\n",
    "str =  ''.join(tup)\n",
    "print(str)"
   ]
  },
  {
   "cell_type": "code",
   "execution_count": 14,
   "id": "de58d06a",
   "metadata": {},
   "outputs": [
    {
     "name": "stdout",
     "output_type": "stream",
     "text": [
      "True\n",
      "False\n"
     ]
    }
   ],
   "source": [
    "tuplex = (\"w\", 3, \"r\", \"e\", \"s\", \"o\", \"u\", \"r\", \"c\", \"e\")\n",
    "print(\"r\" in tuplex)\n",
    "print(5 in tuplex)"
   ]
  },
  {
   "cell_type": "code",
   "execution_count": 15,
   "id": "a992dba2",
   "metadata": {},
   "outputs": [
    {
     "name": "stdout",
     "output_type": "stream",
     "text": [
      "[1, 2, 2, 2]\n"
     ]
    }
   ],
   "source": [
    "listx = [1,2,2,2,2]\n",
    "listx.remove(2)\n",
    "print(listx)"
   ]
  },
  {
   "cell_type": "code",
   "execution_count": 26,
   "id": "cc5129d0",
   "metadata": {},
   "outputs": [
    {
     "name": "stdout",
     "output_type": "stream",
     "text": [
      "[(10, 20, 100), (40, 50, 100), (70, 80, 100)]\n"
     ]
    }
   ],
   "source": [
    "l = [(10, 20, 30), (40, 50, 60), (70, 80, 90)]\n",
    "print([t[:-1] + (100,) for t in l])"
   ]
  },
  {
   "cell_type": "code",
   "execution_count": 27,
   "id": "5c264b00",
   "metadata": {},
   "outputs": [
    {
     "name": "stdout",
     "output_type": "stream",
     "text": [
      "28\n"
     ]
    }
   ],
   "source": [
    "nums = (4, 3, 2, 2, -1, 18)\n",
    "sum_tup = sum(list(nums))\n",
    "print(sum_tup)"
   ]
  },
  {
   "cell_type": "code",
   "execution_count": 28,
   "id": "ceca7b1b",
   "metadata": {},
   "outputs": [
    {
     "name": "stdout",
     "output_type": "stream",
     "text": [
      "[10.5, 44.0, 58.0, 2.5]\n"
     ]
    }
   ],
   "source": [
    "nums = ((10, 10, 10, 12), (30, 45, 56, 45), (81, 80, 39, 32), (1, 2, 3, 4))\n",
    "list_tup = list(nums)\n",
    "avg_list = []\n",
    "for x in list_tup:\n",
    "    avg_list.append(sum(list(x)) / len(list(x)))\n",
    "\n",
    "print(avg_list)"
   ]
  },
  {
   "cell_type": "code",
   "execution_count": 30,
   "id": "3272e00f",
   "metadata": {},
   "outputs": [
    {
     "name": "stdout",
     "output_type": "stream",
     "text": [
      "((333, 33), (1416, 55))\n"
     ]
    }
   ],
   "source": [
    "tuple_str =  (('333', '33'), ('1416', '55'))\n",
    "print(tuple((int(x[0]), int(x[1])) for x in tuple_str))\n"
   ]
  },
  {
   "cell_type": "code",
   "execution_count": 36,
   "id": "28dd9ae8",
   "metadata": {},
   "outputs": [
    {
     "ename": "TypeError",
     "evalue": "'str' object is not callable",
     "output_type": "error",
     "traceback": [
      "\u001b[1;31m---------------------------------------------------------------------------\u001b[0m",
      "\u001b[1;31mTypeError\u001b[0m                                 Traceback (most recent call last)",
      "Cell \u001b[1;32mIn [36], line 2\u001b[0m\n\u001b[0;32m      1\u001b[0m nums \u001b[38;5;241m=\u001b[39m (\u001b[38;5;241m1\u001b[39m,\u001b[38;5;241m2\u001b[39m,\u001b[38;5;241m3\u001b[39m)\n\u001b[1;32m----> 2\u001b[0m \u001b[38;5;28mprint\u001b[39m(\u001b[38;5;28mint\u001b[39m(\u001b[38;5;124m'\u001b[39m\u001b[38;5;124m'\u001b[39m\u001b[38;5;241m.\u001b[39mjoin(\u001b[38;5;28mmap\u001b[39m(\u001b[38;5;28mstr\u001b[39m, nums))))\n",
      "\u001b[1;31mTypeError\u001b[0m: 'str' object is not callable"
     ]
    }
   ],
   "source": [
    "nums = (1,2,3)\n",
    "print(int(''.join(map(str, nums))))"
   ]
  },
  {
   "cell_type": "code",
   "execution_count": 41,
   "id": "c08d3d48",
   "metadata": {},
   "outputs": [
    {
     "name": "stdout",
     "output_type": "stream",
     "text": [
      "<generator object <genexpr> at 0x000002165DFF50E0>\n"
     ]
    }
   ],
   "source": [
    "colors = (\n",
    "    ('Red', 'White', 'Blue'),\n",
    "    ('Green', 'Pink', 'Purple'),\n",
    "    ('Orange', 'Yellow', 'Lime'),\n",
    ")\n",
    "\n",
    "c1 = 'White'\n",
    "print((c1 in tu for tu in colors))"
   ]
  },
  {
   "cell_type": "code",
   "execution_count": 44,
   "id": "95a3339e",
   "metadata": {},
   "outputs": [
    {
     "name": "stdout",
     "output_type": "stream",
     "text": [
      "((1, 3, 2), (2, 5, 2), (3, 2, 3), (4, 1, 1))\n"
     ]
    }
   ],
   "source": [
    "x = (1,2,3,4)\n",
    "y = (3,5,2,1)\n",
    "z = (2,2,3,1)\n",
    "\n",
    "print(tuple(zip(x, y, z)))"
   ]
  },
  {
   "cell_type": "code",
   "execution_count": 50,
   "id": "5f598e17",
   "metadata": {},
   "outputs": [
    {
     "name": "stdout",
     "output_type": "stream",
     "text": [
      "[3, 5, 7]\n",
      "[3, 5, 7]\n"
     ]
    }
   ],
   "source": [
    "tuples = [(1,2), (2,3), (3,4)]\n",
    "print(list(map(sum, tuples)))\n",
    "\n",
    "print(list(sum(x) for x in tuples))"
   ]
  },
  {
   "cell_type": "code",
   "execution_count": 57,
   "id": "1f0ced91",
   "metadata": {},
   "outputs": [
    {
     "ename": "TypeError",
     "evalue": "'map' object is not callable",
     "output_type": "error",
     "traceback": [
      "\u001b[1;31m---------------------------------------------------------------------------\u001b[0m",
      "\u001b[1;31mTypeError\u001b[0m                                 Traceback (most recent call last)",
      "Cell \u001b[1;32mIn [57], line 2\u001b[0m\n\u001b[0;32m      1\u001b[0m lst_tuples \u001b[38;5;241m=\u001b[39m [(\u001b[38;5;241m1\u001b[39m,\u001b[38;5;241m2\u001b[39m), (\u001b[38;5;241m2\u001b[39m,\u001b[38;5;241m3\u001b[39m), (\u001b[38;5;241m3\u001b[39m,\u001b[38;5;241m4\u001b[39m)]\n\u001b[1;32m----> 2\u001b[0m \u001b[38;5;28mprint\u001b[39m([\u001b[38;5;241m*\u001b[39m\u001b[38;5;28mmap\u001b[39m(\u001b[38;5;28mlist\u001b[39m, lst_tuples)])\n",
      "\u001b[1;31mTypeError\u001b[0m: 'map' object is not callable"
     ]
    }
   ],
   "source": [
    "lst_tuples = [(1,2), (2,3), (3,4)]\n",
    "print([*map(list, lst_tuples)])"
   ]
  },
  {
   "cell_type": "code",
   "execution_count": 4,
   "id": "ce3e4272",
   "metadata": {},
   "outputs": [
    {
     "name": "stdout",
     "output_type": "stream",
     "text": [
      "{1: 2, 3: 4, 4: 3, 2: 1, 0: 0}\n",
      "{3: 4, 4: 3, 1: 2, 2: 1, 0: 0}\n"
     ]
    }
   ],
   "source": [
    "d = {1: 2, 3: 4, 4: 3, 2: 1, 0: 0}\n",
    "print(d)\n",
    "sorded_d = dict(sorted(d.items(), key=lambda item:item[1], reverse=True))\n",
    "print(sorded_d)"
   ]
  },
  {
   "cell_type": "markdown",
   "id": "091bdca9",
   "metadata": {},
   "source": [
    "#### check key in dict"
   ]
  },
  {
   "cell_type": "code",
   "execution_count": 7,
   "id": "3357f918",
   "metadata": {},
   "outputs": [
    {
     "name": "stdout",
     "output_type": "stream",
     "text": [
      "Key isn't present in the dictionary\n",
      "Key isn't present in the dictionary\n"
     ]
    }
   ],
   "source": [
    "def is_key_present(x):\n",
    "    if x in d:\n",
    "        print(\"Key is present in the dictionary\")\n",
    "    else:\n",
    "        print(\"Key isn't present in the dictionary\")\n",
    "\n",
    "is_key_present(5)\n",
    "is_key_present(9)\n"
   ]
  },
  {
   "cell_type": "code",
   "execution_count": 8,
   "id": "d9cfbfc2",
   "metadata": {},
   "outputs": [
    {
     "name": "stdout",
     "output_type": "stream",
     "text": [
      "x -> 10\n",
      "y -> 20\n",
      "z -> 30\n"
     ]
    }
   ],
   "source": [
    "d = {'x': 10, 'y': 20, 'z': 30} \n",
    "for dict_key, dict_value in d.items():\n",
    "    print(dict_key,'->',dict_value)"
   ]
  },
  {
   "cell_type": "markdown",
   "id": "c33ee3fd",
   "metadata": {},
   "source": [
    "#### Merge two dictionary"
   ]
  },
  {
   "cell_type": "code",
   "execution_count": 9,
   "id": "8af5b8df",
   "metadata": {},
   "outputs": [
    {
     "name": "stdout",
     "output_type": "stream",
     "text": [
      "{'a': 100, 'b': 200, 'c': 300, 'd': 500}\n"
     ]
    }
   ],
   "source": [
    "d1 = {'a':100, 'b':200}\n",
    "d2 = {'c':300, 'd':500}\n",
    "\n",
    "d = d1.copy()\n",
    "d.update(d2)\n",
    "print(d)"
   ]
  },
  {
   "cell_type": "code",
   "execution_count": 10,
   "id": "1f86c192",
   "metadata": {},
   "outputs": [
    {
     "name": "stdout",
     "output_type": "stream",
     "text": [
      "300\n"
     ]
    }
   ],
   "source": [
    "mydict = {'data1':100, \"data2\":200}\n",
    "print(sum(mydict.values()))"
   ]
  },
  {
   "cell_type": "code",
   "execution_count": 15,
   "id": "7f3cac81",
   "metadata": {},
   "outputs": [
    {
     "name": "stdout",
     "output_type": "stream",
     "text": [
      "20000\n",
      "20000\n"
     ]
    }
   ],
   "source": [
    "result = 1\n",
    "for key in mydict:\n",
    "    result = result * mydict[key]\n",
    "\n",
    "print(result)\n",
    "\n",
    "result2 = 1\n",
    "for _, y in mydict.items():\n",
    "    result2 = result2 * y\n",
    "\n",
    "print(result2)"
   ]
  },
  {
   "cell_type": "markdown",
   "id": "c4ffde6d",
   "metadata": {},
   "source": [
    "#### Map two lists into a dictionatry"
   ]
  },
  {
   "cell_type": "code",
   "execution_count": 16,
   "id": "004d53ee",
   "metadata": {},
   "outputs": [
    {
     "name": "stdout",
     "output_type": "stream",
     "text": [
      "{'red': '#FF0000', 'green': '#008000', 'blue': '#0000FF'}\n"
     ]
    }
   ],
   "source": [
    "keys = [\"red\", \"green\", \"blue\"]\n",
    "values = [\"#FF0000\", \"#008000\", \"#0000FF\"]\n",
    "\n",
    "color_dictionary = dict(zip(keys, values))\n",
    "print(color_dictionary)"
   ]
  },
  {
   "cell_type": "code",
   "execution_count": 17,
   "id": "01e36e9a",
   "metadata": {},
   "outputs": [
    {
     "name": "stdout",
     "output_type": "stream",
     "text": [
      "{'a': 1, 'b': 2, 'c': 3, 'd': 4}\n",
      "{'b': 2, 'c': 3, 'd': 4}\n"
     ]
    }
   ],
   "source": [
    "myDict = {'a':1, 'b':2, 'c':3, 'd':4}\n",
    "\n",
    "print(myDict)\n",
    "if 'a' in myDict:\n",
    "    del myDict['a']\n",
    "\n",
    "print(myDict)"
   ]
  },
  {
   "cell_type": "code",
   "execution_count": 20,
   "id": "2553dbaf",
   "metadata": {},
   "outputs": [
    {
     "name": "stdout",
     "output_type": "stream",
     "text": [
      "{1, 2, 3, 4, 5, 6}\n",
      "{1, 2, 3, 4, 5, 6, 'hello'}\n",
      "{1, 2, 3, 4, 5, 6, 'hello', 99, 10, 20, 30}\n"
     ]
    }
   ],
   "source": [
    "a = set()\n",
    "n = set([1, 2, 3, 4, 5, 6, 6])\n",
    "print(n)\n",
    "n.add(\"hello\")\n",
    "print(n)\n",
    "n.update([10, 20, 30, 99])\n",
    "print(n)"
   ]
  },
  {
   "cell_type": "code",
   "execution_count": null,
   "id": "e5e20c95",
   "metadata": {},
   "outputs": [],
   "source": [
    "num_set = set([0, 1, 3, 4, 5])\n",
    "print(num_set.pop())"
   ]
  },
  {
   "cell_type": "code",
   "execution_count": 23,
   "id": "fe530d78",
   "metadata": {},
   "outputs": [
    {
     "name": "stdout",
     "output_type": "stream",
     "text": [
      "Original set elements:\n",
      "{0, 1, 2, 3, 5, 10}\n",
      "\n",
      "Remove 0 from the said set:\n",
      "{0, 1, 2, 3, 5, 10}\n"
     ]
    }
   ],
   "source": [
    "num_set = set([0, 1, 2, 3, 10, 5])\n",
    "print(\"Original set elements:\")\n",
    "print(num_set)\n",
    "print(\"\\nRemove 0 from the said set:\")\n",
    "num_set.discard(4)\n",
    "print(num_set)"
   ]
  },
  {
   "cell_type": "code",
   "execution_count": 24,
   "id": "8c99d741",
   "metadata": {},
   "outputs": [
    {
     "name": "stdout",
     "output_type": "stream",
     "text": [
      "{'blue', 'yellow', 'green'}\n"
     ]
    }
   ],
   "source": [
    "setc1 = set([\"green\", \"blue\"])\n",
    "setc2 = set([\"blue\", \"yellow\"])\n",
    "setc = setc1.union(setc2)\n",
    "print(setc)"
   ]
  },
  {
   "cell_type": "code",
   "execution_count": null,
   "id": "3e4c8b59",
   "metadata": {},
   "outputs": [],
   "source": []
  }
 ],
 "metadata": {
  "kernelspec": {
   "display_name": "Python 3.10.7 64-bit",
   "language": "python",
   "name": "python3"
  },
  "language_info": {
   "codemirror_mode": {
    "name": "ipython",
    "version": 3
   },
   "file_extension": ".py",
   "mimetype": "text/x-python",
   "name": "python",
   "nbconvert_exporter": "python",
   "pygments_lexer": "ipython3",
   "version": "3.10.7"
  },
  "vscode": {
   "interpreter": {
    "hash": "31671a60cee805c34c73116577b485118ff3a75c458d3004d49632c19702ac60"
   }
  }
 },
 "nbformat": 4,
 "nbformat_minor": 5
}
