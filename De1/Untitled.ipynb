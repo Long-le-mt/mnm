{
 "cells": [
  {
   "cell_type": "markdown",
   "id": "aa687eaa",
   "metadata": {},
   "source": [
    "#### List of integers with exactly two occurrences of nineteen and at least three occurrences of five\n",
    "Input:\n",
    "[19, 19, 15, 5, 3, 5, 5, 2]\n",
    "Output:\n",
    "True"
   ]
  },
  {
   "cell_type": "code",
   "execution_count": 2,
   "id": "ace7dc7a",
   "metadata": {},
   "outputs": [
    {
     "name": "stdout",
     "output_type": "stream",
     "text": [
      "True\n"
     ]
    }
   ],
   "source": [
    "arr =  [19, 19, 15, 5, 3, 5, 5, 2]\n",
    "if arr.count(19) == 2 and arr.count(5) >= 3:\n",
    "    print(True)\n",
    "else:\n",
    "    print(False)"
   ]
  },
  {
   "cell_type": "markdown",
   "id": "83b8519c",
   "metadata": {},
   "source": [
    "#### Write a Python program that accept a list of integers and check the length and the fifth element. Return true if the length of the list is 8 and fifth element occurs thrice in the said list\n",
    "Input:\n",
    "[19, 19, 15, 5, 5, 5, 1, 2]\n",
    "\n",
    "Output:\n",
    "True"
   ]
  },
  {
   "cell_type": "code",
   "execution_count": 4,
   "id": "a2042dc4",
   "metadata": {},
   "outputs": [
    {
     "name": "stdout",
     "output_type": "stream",
     "text": [
      "True\n"
     ]
    }
   ],
   "source": [
    "arr = [19, 19, 15, 5, 5, 5, 1, 2]\n",
    "if len(arr) == 8 and arr.count(arr[4]) == 3:\n",
    "    print(True)\n",
    "else:\n",
    "    print(False)"
   ]
  },
  {
   "cell_type": "markdown",
   "id": "4e51f4a7",
   "metadata": {},
   "source": [
    "#### Sum list"
   ]
  },
  {
   "cell_type": "code",
   "execution_count": 5,
   "id": "ac28905e",
   "metadata": {},
   "outputs": [
    {
     "name": "stdout",
     "output_type": "stream",
     "text": [
      "19\n"
     ]
    }
   ],
   "source": [
    "arr = [1, 3 ,4 ,5 ,6]\n",
    "print(sum(arr))"
   ]
  },
  {
   "cell_type": "markdown",
   "id": "1297fc5d",
   "metadata": {},
   "source": [
    "#### mul"
   ]
  },
  {
   "cell_type": "code",
   "execution_count": 9,
   "id": "5129793a",
   "metadata": {},
   "outputs": [
    {
     "name": "stdout",
     "output_type": "stream",
     "text": [
      "120\n"
     ]
    }
   ],
   "source": [
    "def multiplyList(myList):\n",
    " \n",
    "    # Multiply elements one by one\n",
    "    result = 1\n",
    "    for x in myList:\n",
    "        result = result * x\n",
    "    return result\n",
    "\n",
    "print(multiplyList([1, 2, 3, 4, 5]))"
   ]
  },
  {
   "cell_type": "code",
   "execution_count": 11,
   "id": "ced9cc2b",
   "metadata": {},
   "outputs": [
    {
     "name": "stdout",
     "output_type": "stream",
     "text": [
      "2\n",
      "-8\n"
     ]
    }
   ],
   "source": [
    "arr = [1, 2, -8, 0]\n",
    "print(max(arr))\n",
    "print(min(arr))"
   ]
  },
  {
   "cell_type": "markdown",
   "id": "65949fdb",
   "metadata": {},
   "source": [
    "#### Sort list tuple "
   ]
  },
  {
   "cell_type": "code",
   "execution_count": 12,
   "id": "ced2573e",
   "metadata": {},
   "outputs": [
    {
     "name": "stdout",
     "output_type": "stream",
     "text": [
      "[(2, 1), (1, 2), (2, 3), (4, 4), (2, 5)]\n"
     ]
    }
   ],
   "source": [
    "arr = [(2, 5), (1, 2), (4, 4), (2, 3), (2, 1)]\n",
    "print(sorted(arr, key = lambda x: x[1]))"
   ]
  },
  {
   "cell_type": "markdown",
   "id": "491bf16d",
   "metadata": {},
   "source": [
    "#### Remove duplicate out list"
   ]
  },
  {
   "cell_type": "code",
   "execution_count": 13,
   "id": "5f83ef94",
   "metadata": {},
   "outputs": [
    {
     "name": "stdout",
     "output_type": "stream",
     "text": [
      "[10, 20, 30, 50, 60, 40, 80]\n"
     ]
    }
   ],
   "source": [
    "mylist = [10,20,30,20,10,50,60,40,80,50,40]\n",
    "mylist = list(dict.fromkeys(mylist))\n",
    "print(mylist)"
   ]
  },
  {
   "cell_type": "markdown",
   "id": "140b4017",
   "metadata": {},
   "source": [
    "#### Check list empty"
   ]
  },
  {
   "cell_type": "code",
   "execution_count": 16,
   "id": "3245c5ab",
   "metadata": {},
   "outputs": [
    {
     "name": "stdout",
     "output_type": "stream",
     "text": [
      "List is empty\n",
      "List is empty\n"
     ]
    }
   ],
   "source": [
    "l = []\n",
    "if not l: \n",
    "    print(\"List is empty\")\n",
    "else:\n",
    "    print(\"List is not empty\")\n",
    "    \n",
    "if len(l) == 0:\n",
    "    print(\"List is empty\")\n",
    "else:\n",
    "    print(\"List is not empty\")"
   ]
  },
  {
   "cell_type": "markdown",
   "id": "bfa5affb",
   "metadata": {},
   "source": [
    "#### Clone of copy list\n"
   ]
  },
  {
   "cell_type": "code",
   "execution_count": 20,
   "id": "a209d952",
   "metadata": {},
   "outputs": [
    {
     "name": "stdout",
     "output_type": "stream",
     "text": [
      "[10, 22, 44, 23, 4]\n",
      "Equal\n"
     ]
    }
   ],
   "source": [
    "arr = [10, 22, 44, 23, 4]\n",
    "arr2 = list(arr)\n",
    "print(arr2)\n",
    "if arr == arr2:\n",
    "    print(\"Equal\")"
   ]
  },
  {
   "cell_type": "markdown",
   "id": "c2102755",
   "metadata": {},
   "source": [
    "####  find the list of words that are longer than n from a given list of words."
   ]
  },
  {
   "cell_type": "code",
   "execution_count": 21,
   "id": "8d251a35",
   "metadata": {},
   "outputs": [
    {
     "name": "stdout",
     "output_type": "stream",
     "text": [
      "['quick', 'brown', 'jumps', 'over', 'lazy']\n"
     ]
    }
   ],
   "source": [
    "def long_words(n, str):\n",
    "    word_len = []\n",
    "    str_arr = str.split(\" \")\n",
    "    \n",
    "    for x in str_arr:\n",
    "        if len(x) > n:\n",
    "            word_len.append(x)\n",
    "    return word_len\n",
    "\n",
    "print(long_words(3, \"The quick brown fox jumps over the lazy dog\"))"
   ]
  },
  {
   "cell_type": "markdown",
   "id": "af074279",
   "metadata": {},
   "source": [
    "####  find commons in two lists"
   ]
  },
  {
   "cell_type": "code",
   "execution_count": 32,
   "id": "84c6d949",
   "metadata": {},
   "outputs": [
    {
     "name": "stdout",
     "output_type": "stream",
     "text": [
      "two list have element common\n",
      "True\n",
      "None\n"
     ]
    }
   ],
   "source": [
    "list1 = [1, 2, 1, 2, 3, 31]\n",
    "list2 = [1, 3, 3]\n",
    "\n",
    "list1_as_set = set(list1)\n",
    "intersection = list1_as_set.intersection(list2)\n",
    "common_list = list(intersection)\n",
    "\n",
    "if len(common_list) > 0:\n",
    "    print(\"two list have element common\")\n",
    "else:\n",
    "    print(\"two list have not element common\")\n",
    "\n",
    "def common_data(list1, list2):\n",
    "     result = False\n",
    "     for x in list1:\n",
    "         for y in list2:\n",
    "             if x == y:\n",
    "                 result = True\n",
    "                 return result\n",
    "print(common_data([1,2,3,4,5], [5,6,7,8,9]))\n",
    "print(common_data([1,2,3,4,5], [6,7,8,9]))"
   ]
  },
  {
   "cell_type": "markdown",
   "id": "270c0f2d",
   "metadata": {},
   "source": [
    "#### Print a list after removing specified elements"
   ]
  },
  {
   "cell_type": "code",
   "execution_count": 33,
   "id": "8d8ec14b",
   "metadata": {},
   "outputs": [
    {
     "name": "stdout",
     "output_type": "stream",
     "text": [
      "['Green', 'White', 'Black']\n"
     ]
    }
   ],
   "source": [
    "color = ['Red', 'Green', 'White', 'Black', 'Pink', 'Yellow']\n",
    "color = [x for (i,x) in enumerate(color) if i not in (0,4,5)]\n",
    "print(color)"
   ]
  },
  {
   "cell_type": "markdown",
   "id": "92958441",
   "metadata": {},
   "source": [
    "#### print number after remove even numbers"
   ]
  },
  {
   "cell_type": "code",
   "execution_count": 36,
   "id": "ab475603",
   "metadata": {},
   "outputs": [
    {
     "name": "stdout",
     "output_type": "stream",
     "text": [
      "[7, 25, 27]\n"
     ]
    }
   ],
   "source": [
    "arr = [7,8, 120, 25, 44, 20, 27]\n",
    "arr = [x for x in arr if x%2!=0]\n",
    "print(arr)"
   ]
  },
  {
   "cell_type": "markdown",
   "id": "321c1713",
   "metadata": {},
   "source": [
    "#### Create a list by concatenating a given list which range goes from 1 to n"
   ]
  },
  {
   "cell_type": "code",
   "execution_count": 43,
   "id": "1dbd4cbb",
   "metadata": {},
   "outputs": [
    {
     "name": "stdout",
     "output_type": "stream",
     "text": [
      "['p1', 'q1', 'p2', 'q2', 'p3', 'q3', 'p4', 'q4']\n"
     ]
    }
   ],
   "source": [
    "my_list = ['p', 'q']\n",
    "n = 4 \n",
    "new_list = ['{}{}'.format(x, y) for y in range(1, n+1) for x in my_list]\n",
    "print(new_list)"
   ]
  },
  {
   "cell_type": "code",
   "execution_count": 56,
   "id": "b50497cf",
   "metadata": {},
   "outputs": [
    {
     "ename": "TypeError",
     "evalue": "'str' object is not callable",
     "output_type": "error",
     "traceback": [
      "\u001b[1;31m---------------------------------------------------------------------------\u001b[0m",
      "\u001b[1;31mTypeError\u001b[0m                                 Traceback (most recent call last)",
      "Input \u001b[1;32mIn [56]\u001b[0m, in \u001b[0;36m<cell line: 6>\u001b[1;34m()\u001b[0m\n\u001b[0;32m      3\u001b[0m string \u001b[38;5;241m=\u001b[39m \u001b[38;5;124m\"\u001b[39m\u001b[38;5;124m\"\u001b[39m\n\u001b[0;32m      4\u001b[0m \u001b[38;5;66;03m# for i in arr:\u001b[39;00m\n\u001b[0;32m      5\u001b[0m \u001b[38;5;66;03m#     string += str(i)\u001b[39;00m\n\u001b[1;32m----> 6\u001b[0m \u001b[38;5;28mprint\u001b[39m(\u001b[38;5;28;43mstr\u001b[39;49m\u001b[43m(\u001b[49m\u001b[38;5;241;43m10\u001b[39;49m\u001b[43m)\u001b[49m)\n",
      "\u001b[1;31mTypeError\u001b[0m: 'str' object is not callable"
     ]
    }
   ],
   "source": [
    "arr = [11, 33, 40]\n",
    "x = int(\"\".join(map(str,arr)))\n",
    "string = \"\"\n",
    "# for i in arr:\n",
    "#     string += str(i)\n",
    "print(str(10))"
   ]
  },
  {
   "cell_type": "code",
   "execution_count": null,
   "id": "2b040532",
   "metadata": {},
   "outputs": [],
   "source": []
  }
 ],
 "metadata": {
  "kernelspec": {
   "display_name": "Python 3 (ipykernel)",
   "language": "python",
   "name": "python3"
  },
  "language_info": {
   "codemirror_mode": {
    "name": "ipython",
    "version": 3
   },
   "file_extension": ".py",
   "mimetype": "text/x-python",
   "name": "python",
   "nbconvert_exporter": "python",
   "pygments_lexer": "ipython3",
   "version": "3.9.0"
  }
 },
 "nbformat": 4,
 "nbformat_minor": 5
}
