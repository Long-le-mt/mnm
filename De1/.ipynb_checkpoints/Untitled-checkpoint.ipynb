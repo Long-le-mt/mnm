{
 "cells": [
  {
   "cell_type": "markdown",
   "id": "0747dfaf",
   "metadata": {},
   "source": [
    "#### List of integers with exactly two occurrences of nineteen and at least three occurrences of five\n",
    "Input:\n",
    "[19, 19, 15, 5, 3, 5, 5, 2]\n",
    "Output:\n",
    "True"
   ]
  },
  {
   "cell_type": "code",
   "execution_count": 2,
   "id": "9737432c",
   "metadata": {},
   "outputs": [
    {
     "name": "stdout",
     "output_type": "stream",
     "text": [
      "True\n"
     ]
    }
   ],
   "source": [
    "arr =  [19, 19, 15, 5, 3, 5, 5, 2]\n",
    "if arr.count(19) == 2 and arr.count(5) >= 3:\n",
    "    print(True)\n",
    "else:\n",
    "    print(False)"
   ]
  },
  {
   "cell_type": "markdown",
   "id": "610e2457",
   "metadata": {},
   "source": [
    "#### Write a Python program that accept a list of integers and check the length and the fifth element. Return true if the length of the list is 8 and fifth element occurs thrice in the said list\n",
    "Input:\n",
    "[19, 19, 15, 5, 5, 5, 1, 2]\n",
    "\n",
    "Output:\n",
    "True"
   ]
  },
  {
   "cell_type": "code",
   "execution_count": 4,
   "id": "f1da9da7",
   "metadata": {},
   "outputs": [
    {
     "name": "stdout",
     "output_type": "stream",
     "text": [
      "True\n"
     ]
    }
   ],
   "source": [
    "arr = [19, 19, 15, 5, 5, 5, 1, 2]\n",
    "if len(arr) == 8 and arr.count(arr[4]) == 3:\n",
    "    print(True)\n",
    "else:\n",
    "    print(False)"
   ]
  },
  {
   "cell_type": "markdown",
   "id": "d6550f77",
   "metadata": {},
   "source": [
    "#### Sum list"
   ]
  },
  {
   "cell_type": "code",
   "execution_count": 5,
   "id": "b6556500",
   "metadata": {},
   "outputs": [
    {
     "name": "stdout",
     "output_type": "stream",
     "text": [
      "19\n"
     ]
    }
   ],
   "source": [
    "arr = [1, 3 ,4 ,5 ,6]\n",
    "print(sum(arr))"
   ]
  },
  {
   "cell_type": "markdown",
   "id": "b237c740",
   "metadata": {},
   "source": [
    "#### mul"
   ]
  },
  {
   "cell_type": "code",
   "execution_count": 9,
   "id": "f53f9895",
   "metadata": {},
   "outputs": [
    {
     "name": "stdout",
     "output_type": "stream",
     "text": [
      "120\n"
     ]
    }
   ],
   "source": [
    "def multiplyList(myList):\n",
    " \n",
    "    # Multiply elements one by one\n",
    "    result = 1\n",
    "    for x in myList:\n",
    "        result = result * x\n",
    "    return result\n",
    "\n",
    "print(multiplyList([1, 2, 3, 4, 5]))"
   ]
  },
  {
   "cell_type": "code",
   "execution_count": 11,
   "id": "86d3e31b",
   "metadata": {},
   "outputs": [
    {
     "name": "stdout",
     "output_type": "stream",
     "text": [
      "2\n",
      "-8\n"
     ]
    }
   ],
   "source": [
    "arr = [1, 2, -8, 0]\n",
    "print(max(arr))\n",
    "print(min(arr))"
   ]
  },
  {
   "cell_type": "markdown",
   "id": "2c4cf6b7",
   "metadata": {},
   "source": [
    "#### Sort list tuple "
   ]
  },
  {
   "cell_type": "code",
   "execution_count": 12,
   "id": "63a0d8e8",
   "metadata": {},
   "outputs": [
    {
     "name": "stdout",
     "output_type": "stream",
     "text": [
      "[(2, 1), (1, 2), (2, 3), (4, 4), (2, 5)]\n"
     ]
    }
   ],
   "source": [
    "arr = [(2, 5), (1, 2), (4, 4), (2, 3), (2, 1)]\n",
    "print(sorted(arr, key = lambda x: x[1]))"
   ]
  },
  {
   "cell_type": "markdown",
   "id": "c903e444",
   "metadata": {},
   "source": [
    "#### Remove duplicate out list"
   ]
  },
  {
   "cell_type": "code",
   "execution_count": 13,
   "id": "b4cb307e",
   "metadata": {},
   "outputs": [
    {
     "name": "stdout",
     "output_type": "stream",
     "text": [
      "[10, 20, 30, 50, 60, 40, 80]\n"
     ]
    }
   ],
   "source": [
    "mylist = [10,20,30,20,10,50,60,40,80,50,40]\n",
    "mylist = list(dict.fromkeys(mylist))\n",
    "print(mylist)"
   ]
  },
  {
   "cell_type": "markdown",
   "id": "e7b29695",
   "metadata": {},
   "source": [
    "#### Check list empty"
   ]
  },
  {
   "cell_type": "code",
   "execution_count": 16,
   "id": "fa3a7bd0",
   "metadata": {},
   "outputs": [
    {
     "name": "stdout",
     "output_type": "stream",
     "text": [
      "List is empty\n",
      "List is empty\n"
     ]
    }
   ],
   "source": [
    "l = []\n",
    "if not l: \n",
    "    print(\"List is empty\")\n",
    "else:\n",
    "    print(\"List is not empty\")\n",
    "    \n",
    "if len(l) == 0:\n",
    "    print(\"List is empty\")\n",
    "else:\n",
    "    print(\"List is not empty\")"
   ]
  },
  {
   "cell_type": "markdown",
   "id": "673c1c66",
   "metadata": {},
   "source": [
    "#### Clone of copy list\n"
   ]
  },
  {
   "cell_type": "code",
   "execution_count": 20,
   "id": "ff50832e",
   "metadata": {},
   "outputs": [
    {
     "name": "stdout",
     "output_type": "stream",
     "text": [
      "[10, 22, 44, 23, 4]\n",
      "Equal\n"
     ]
    }
   ],
   "source": [
    "arr = [10, 22, 44, 23, 4]\n",
    "arr2 = list(arr)\n",
    "print(arr2)\n",
    "if arr == arr2:\n",
    "    print(\"Equal\")"
   ]
  },
  {
   "cell_type": "markdown",
   "id": "93e51103",
   "metadata": {},
   "source": [
    "####  find the list of words that are longer than n from a given list of words."
   ]
  },
  {
   "cell_type": "code",
   "execution_count": 21,
   "id": "c75a9cae",
   "metadata": {},
   "outputs": [
    {
     "name": "stdout",
     "output_type": "stream",
     "text": [
      "['quick', 'brown', 'jumps', 'over', 'lazy']\n"
     ]
    }
   ],
   "source": [
    "def long_words(n, str):\n",
    "    word_len = []\n",
    "    str_arr = str.split(\" \")\n",
    "    \n",
    "    for x in str_arr:\n",
    "        if len(x) > n:\n",
    "            word_len.append(x)\n",
    "    return word_len\n",
    "\n",
    "print(long_words(3, \"The quick brown fox jumps over the lazy dog\"))"
   ]
  },
  {
   "cell_type": "markdown",
   "id": "7f43126f",
   "metadata": {},
   "source": [
    "####  find commons in two lists"
   ]
  },
  {
   "cell_type": "code",
   "execution_count": null,
   "id": "06104b1d",
   "metadata": {},
   "outputs": [],
   "source": [
    "list1 = [1, 2, 1, 2, 33, 31]\n",
    "list2 = [1, 3]\n",
    "\n",
    "list1_as_set = set(list1)\n",
    "print(list1_as_set)"
   ]
  }
 ],
 "metadata": {
  "kernelspec": {
   "display_name": "Python 3 (ipykernel)",
   "language": "python",
   "name": "python3"
  },
  "language_info": {
   "codemirror_mode": {
    "name": "ipython",
    "version": 3
   },
   "file_extension": ".py",
   "mimetype": "text/x-python",
   "name": "python",
   "nbconvert_exporter": "python",
   "pygments_lexer": "ipython3",
   "version": "3.9.0"
  }
 },
 "nbformat": 4,
 "nbformat_minor": 5
}
